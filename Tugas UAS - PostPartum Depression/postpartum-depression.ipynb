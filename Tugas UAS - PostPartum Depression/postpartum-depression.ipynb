{
 "cells": [
  {
   "cell_type": "code",
   "execution_count": 1,
   "metadata": {},
   "outputs": [],
   "source": [
    "import numpy as np # linear algebra\n",
    "import pandas as pd # data processing, CSV file I/O (e.g. pd.read_csv)\n",
    "import os\n",
    "from sklearn.model_selection import train_test_split\n",
    "from sklearn.svm import SVC\n",
    "from sklearn.ensemble import RandomForestClassifier\n",
    "from sklearn.metrics import balanced_accuracy_score\n",
    "from sklearn.metrics import confusion_matrix\n",
    "import matplotlib.pyplot as plt\n",
    "import seaborn as sns"
   ]
  },
  {
   "cell_type": "markdown",
   "metadata": {},
   "source": [
    "# Baca Data"
   ]
  },
  {
   "cell_type": "code",
   "execution_count": 2,
   "metadata": {},
   "outputs": [
    {
     "data": {
      "text/html": [
       "<div>\n",
       "<style scoped>\n",
       "    .dataframe tbody tr th:only-of-type {\n",
       "        vertical-align: middle;\n",
       "    }\n",
       "\n",
       "    .dataframe tbody tr th {\n",
       "        vertical-align: top;\n",
       "    }\n",
       "\n",
       "    .dataframe thead th {\n",
       "        text-align: right;\n",
       "    }\n",
       "</style>\n",
       "<table border=\"1\" class=\"dataframe\">\n",
       "  <thead>\n",
       "    <tr style=\"text-align: right;\">\n",
       "      <th></th>\n",
       "      <th>Timestamp</th>\n",
       "      <th>Age</th>\n",
       "      <th>Feeling sad or Tearful</th>\n",
       "      <th>Irritable towards baby &amp; partner</th>\n",
       "      <th>Trouble sleeping at night</th>\n",
       "      <th>Problems concentrating or making decision</th>\n",
       "      <th>Overeating or loss of appetite</th>\n",
       "      <th>Feeling anxious</th>\n",
       "      <th>Feeling of guilt</th>\n",
       "      <th>Problems of bonding with baby</th>\n",
       "      <th>Suicide attempt</th>\n",
       "    </tr>\n",
       "  </thead>\n",
       "  <tbody>\n",
       "    <tr>\n",
       "      <th>0</th>\n",
       "      <td>6/14/2022 20:02</td>\n",
       "      <td>35-40</td>\n",
       "      <td>Yes</td>\n",
       "      <td>Yes</td>\n",
       "      <td>Two or more days a week</td>\n",
       "      <td>Yes</td>\n",
       "      <td>Yes</td>\n",
       "      <td>Yes</td>\n",
       "      <td>No</td>\n",
       "      <td>Yes</td>\n",
       "      <td>Yes</td>\n",
       "    </tr>\n",
       "    <tr>\n",
       "      <th>1</th>\n",
       "      <td>6/14/2022 20:03</td>\n",
       "      <td>40-45</td>\n",
       "      <td>Yes</td>\n",
       "      <td>No</td>\n",
       "      <td>No</td>\n",
       "      <td>Yes</td>\n",
       "      <td>Yes</td>\n",
       "      <td>No</td>\n",
       "      <td>Yes</td>\n",
       "      <td>Yes</td>\n",
       "      <td>No</td>\n",
       "    </tr>\n",
       "    <tr>\n",
       "      <th>2</th>\n",
       "      <td>6/14/2022 20:04</td>\n",
       "      <td>35-40</td>\n",
       "      <td>Yes</td>\n",
       "      <td>No</td>\n",
       "      <td>Yes</td>\n",
       "      <td>Yes</td>\n",
       "      <td>Yes</td>\n",
       "      <td>Yes</td>\n",
       "      <td>No</td>\n",
       "      <td>Sometimes</td>\n",
       "      <td>No</td>\n",
       "    </tr>\n",
       "    <tr>\n",
       "      <th>3</th>\n",
       "      <td>6/14/2022 20:05</td>\n",
       "      <td>35-40</td>\n",
       "      <td>Yes</td>\n",
       "      <td>Yes</td>\n",
       "      <td>Yes</td>\n",
       "      <td>Yes</td>\n",
       "      <td>No</td>\n",
       "      <td>Yes</td>\n",
       "      <td>Maybe</td>\n",
       "      <td>No</td>\n",
       "      <td>No</td>\n",
       "    </tr>\n",
       "    <tr>\n",
       "      <th>4</th>\n",
       "      <td>6/14/2022 20:06</td>\n",
       "      <td>40-45</td>\n",
       "      <td>Yes</td>\n",
       "      <td>No</td>\n",
       "      <td>Two or more days a week</td>\n",
       "      <td>Yes</td>\n",
       "      <td>No</td>\n",
       "      <td>Yes</td>\n",
       "      <td>No</td>\n",
       "      <td>Yes</td>\n",
       "      <td>No</td>\n",
       "    </tr>\n",
       "    <tr>\n",
       "      <th>...</th>\n",
       "      <td>...</td>\n",
       "      <td>...</td>\n",
       "      <td>...</td>\n",
       "      <td>...</td>\n",
       "      <td>...</td>\n",
       "      <td>...</td>\n",
       "      <td>...</td>\n",
       "      <td>...</td>\n",
       "      <td>...</td>\n",
       "      <td>...</td>\n",
       "      <td>...</td>\n",
       "    </tr>\n",
       "    <tr>\n",
       "      <th>1498</th>\n",
       "      <td>6/15/2022 0:35</td>\n",
       "      <td>30-35</td>\n",
       "      <td>Yes</td>\n",
       "      <td>No</td>\n",
       "      <td>Two or more days a week</td>\n",
       "      <td>No</td>\n",
       "      <td>No</td>\n",
       "      <td>Yes</td>\n",
       "      <td>Maybe</td>\n",
       "      <td>Sometimes</td>\n",
       "      <td>No</td>\n",
       "    </tr>\n",
       "    <tr>\n",
       "      <th>1499</th>\n",
       "      <td>6/15/2022 0:35</td>\n",
       "      <td>25-30</td>\n",
       "      <td>Sometimes</td>\n",
       "      <td>No</td>\n",
       "      <td>No</td>\n",
       "      <td>Often</td>\n",
       "      <td>No</td>\n",
       "      <td>Yes</td>\n",
       "      <td>Maybe</td>\n",
       "      <td>Yes</td>\n",
       "      <td>No</td>\n",
       "    </tr>\n",
       "    <tr>\n",
       "      <th>1500</th>\n",
       "      <td>6/15/2022 0:35</td>\n",
       "      <td>25-30</td>\n",
       "      <td>No</td>\n",
       "      <td>Sometimes</td>\n",
       "      <td>Two or more days a week</td>\n",
       "      <td>No</td>\n",
       "      <td>No</td>\n",
       "      <td>No</td>\n",
       "      <td>Yes</td>\n",
       "      <td>No</td>\n",
       "      <td>Not interested to say</td>\n",
       "    </tr>\n",
       "    <tr>\n",
       "      <th>1501</th>\n",
       "      <td>6/15/2022 0:36</td>\n",
       "      <td>25-30</td>\n",
       "      <td>No</td>\n",
       "      <td>Sometimes</td>\n",
       "      <td>Yes</td>\n",
       "      <td>Often</td>\n",
       "      <td>No</td>\n",
       "      <td>Yes</td>\n",
       "      <td>No</td>\n",
       "      <td>No</td>\n",
       "      <td>No</td>\n",
       "    </tr>\n",
       "    <tr>\n",
       "      <th>1502</th>\n",
       "      <td>6/15/2022 0:36</td>\n",
       "      <td>45-50</td>\n",
       "      <td>Sometimes</td>\n",
       "      <td>Sometimes</td>\n",
       "      <td>Two or more days a week</td>\n",
       "      <td>No</td>\n",
       "      <td>No</td>\n",
       "      <td>No</td>\n",
       "      <td>Maybe</td>\n",
       "      <td>No</td>\n",
       "      <td>No</td>\n",
       "    </tr>\n",
       "  </tbody>\n",
       "</table>\n",
       "<p>1503 rows × 11 columns</p>\n",
       "</div>"
      ],
      "text/plain": [
       "            Timestamp    Age Feeling sad or Tearful  \\\n",
       "0     6/14/2022 20:02  35-40                    Yes   \n",
       "1     6/14/2022 20:03  40-45                    Yes   \n",
       "2     6/14/2022 20:04  35-40                    Yes   \n",
       "3     6/14/2022 20:05  35-40                    Yes   \n",
       "4     6/14/2022 20:06  40-45                    Yes   \n",
       "...               ...    ...                    ...   \n",
       "1498   6/15/2022 0:35  30-35                    Yes   \n",
       "1499   6/15/2022 0:35  25-30              Sometimes   \n",
       "1500   6/15/2022 0:35  25-30                     No   \n",
       "1501   6/15/2022 0:36  25-30                     No   \n",
       "1502   6/15/2022 0:36  45-50              Sometimes   \n",
       "\n",
       "     Irritable towards baby & partner Trouble sleeping at night  \\\n",
       "0                                 Yes   Two or more days a week   \n",
       "1                                  No                        No   \n",
       "2                                  No                       Yes   \n",
       "3                                 Yes                       Yes   \n",
       "4                                  No   Two or more days a week   \n",
       "...                               ...                       ...   \n",
       "1498                               No   Two or more days a week   \n",
       "1499                               No                        No   \n",
       "1500                        Sometimes   Two or more days a week   \n",
       "1501                        Sometimes                       Yes   \n",
       "1502                        Sometimes   Two or more days a week   \n",
       "\n",
       "     Problems concentrating or making decision Overeating or loss of appetite  \\\n",
       "0                                          Yes                            Yes   \n",
       "1                                          Yes                            Yes   \n",
       "2                                          Yes                            Yes   \n",
       "3                                          Yes                             No   \n",
       "4                                          Yes                             No   \n",
       "...                                        ...                            ...   \n",
       "1498                                        No                             No   \n",
       "1499                                     Often                             No   \n",
       "1500                                        No                             No   \n",
       "1501                                     Often                             No   \n",
       "1502                                        No                             No   \n",
       "\n",
       "     Feeling anxious Feeling of guilt Problems of bonding with baby  \\\n",
       "0                Yes               No                           Yes   \n",
       "1                 No              Yes                           Yes   \n",
       "2                Yes               No                     Sometimes   \n",
       "3                Yes            Maybe                            No   \n",
       "4                Yes               No                           Yes   \n",
       "...              ...              ...                           ...   \n",
       "1498             Yes            Maybe                     Sometimes   \n",
       "1499             Yes            Maybe                           Yes   \n",
       "1500              No              Yes                            No   \n",
       "1501             Yes               No                            No   \n",
       "1502              No            Maybe                            No   \n",
       "\n",
       "            Suicide attempt  \n",
       "0                       Yes  \n",
       "1                        No  \n",
       "2                        No  \n",
       "3                        No  \n",
       "4                        No  \n",
       "...                     ...  \n",
       "1498                     No  \n",
       "1499                     No  \n",
       "1500  Not interested to say  \n",
       "1501                     No  \n",
       "1502                     No  \n",
       "\n",
       "[1503 rows x 11 columns]"
      ]
     },
     "execution_count": 2,
     "metadata": {},
     "output_type": "execute_result"
    }
   ],
   "source": [
    "data = pd.read_csv('post natal data.csv')\n",
    "data"
   ]
  },
  {
   "cell_type": "markdown",
   "metadata": {},
   "source": [
    "# Hapus Kolom Timestamp karena tidak dibutuhkan"
   ]
  },
  {
   "cell_type": "code",
   "execution_count": 3,
   "metadata": {},
   "outputs": [
    {
     "data": {
      "text/html": [
       "<div>\n",
       "<style scoped>\n",
       "    .dataframe tbody tr th:only-of-type {\n",
       "        vertical-align: middle;\n",
       "    }\n",
       "\n",
       "    .dataframe tbody tr th {\n",
       "        vertical-align: top;\n",
       "    }\n",
       "\n",
       "    .dataframe thead th {\n",
       "        text-align: right;\n",
       "    }\n",
       "</style>\n",
       "<table border=\"1\" class=\"dataframe\">\n",
       "  <thead>\n",
       "    <tr style=\"text-align: right;\">\n",
       "      <th></th>\n",
       "      <th>Age</th>\n",
       "      <th>Feeling sad or Tearful</th>\n",
       "      <th>Irritable towards baby &amp; partner</th>\n",
       "      <th>Trouble sleeping at night</th>\n",
       "      <th>Problems concentrating or making decision</th>\n",
       "      <th>Overeating or loss of appetite</th>\n",
       "      <th>Feeling anxious</th>\n",
       "      <th>Feeling of guilt</th>\n",
       "      <th>Problems of bonding with baby</th>\n",
       "      <th>Suicide attempt</th>\n",
       "    </tr>\n",
       "  </thead>\n",
       "  <tbody>\n",
       "    <tr>\n",
       "      <th>0</th>\n",
       "      <td>35-40</td>\n",
       "      <td>Yes</td>\n",
       "      <td>Yes</td>\n",
       "      <td>Two or more days a week</td>\n",
       "      <td>Yes</td>\n",
       "      <td>Yes</td>\n",
       "      <td>Yes</td>\n",
       "      <td>No</td>\n",
       "      <td>Yes</td>\n",
       "      <td>Yes</td>\n",
       "    </tr>\n",
       "    <tr>\n",
       "      <th>1</th>\n",
       "      <td>40-45</td>\n",
       "      <td>Yes</td>\n",
       "      <td>No</td>\n",
       "      <td>No</td>\n",
       "      <td>Yes</td>\n",
       "      <td>Yes</td>\n",
       "      <td>No</td>\n",
       "      <td>Yes</td>\n",
       "      <td>Yes</td>\n",
       "      <td>No</td>\n",
       "    </tr>\n",
       "    <tr>\n",
       "      <th>2</th>\n",
       "      <td>35-40</td>\n",
       "      <td>Yes</td>\n",
       "      <td>No</td>\n",
       "      <td>Yes</td>\n",
       "      <td>Yes</td>\n",
       "      <td>Yes</td>\n",
       "      <td>Yes</td>\n",
       "      <td>No</td>\n",
       "      <td>Sometimes</td>\n",
       "      <td>No</td>\n",
       "    </tr>\n",
       "    <tr>\n",
       "      <th>3</th>\n",
       "      <td>35-40</td>\n",
       "      <td>Yes</td>\n",
       "      <td>Yes</td>\n",
       "      <td>Yes</td>\n",
       "      <td>Yes</td>\n",
       "      <td>No</td>\n",
       "      <td>Yes</td>\n",
       "      <td>Maybe</td>\n",
       "      <td>No</td>\n",
       "      <td>No</td>\n",
       "    </tr>\n",
       "    <tr>\n",
       "      <th>4</th>\n",
       "      <td>40-45</td>\n",
       "      <td>Yes</td>\n",
       "      <td>No</td>\n",
       "      <td>Two or more days a week</td>\n",
       "      <td>Yes</td>\n",
       "      <td>No</td>\n",
       "      <td>Yes</td>\n",
       "      <td>No</td>\n",
       "      <td>Yes</td>\n",
       "      <td>No</td>\n",
       "    </tr>\n",
       "    <tr>\n",
       "      <th>...</th>\n",
       "      <td>...</td>\n",
       "      <td>...</td>\n",
       "      <td>...</td>\n",
       "      <td>...</td>\n",
       "      <td>...</td>\n",
       "      <td>...</td>\n",
       "      <td>...</td>\n",
       "      <td>...</td>\n",
       "      <td>...</td>\n",
       "      <td>...</td>\n",
       "    </tr>\n",
       "    <tr>\n",
       "      <th>1498</th>\n",
       "      <td>30-35</td>\n",
       "      <td>Yes</td>\n",
       "      <td>No</td>\n",
       "      <td>Two or more days a week</td>\n",
       "      <td>No</td>\n",
       "      <td>No</td>\n",
       "      <td>Yes</td>\n",
       "      <td>Maybe</td>\n",
       "      <td>Sometimes</td>\n",
       "      <td>No</td>\n",
       "    </tr>\n",
       "    <tr>\n",
       "      <th>1499</th>\n",
       "      <td>25-30</td>\n",
       "      <td>Sometimes</td>\n",
       "      <td>No</td>\n",
       "      <td>No</td>\n",
       "      <td>Often</td>\n",
       "      <td>No</td>\n",
       "      <td>Yes</td>\n",
       "      <td>Maybe</td>\n",
       "      <td>Yes</td>\n",
       "      <td>No</td>\n",
       "    </tr>\n",
       "    <tr>\n",
       "      <th>1500</th>\n",
       "      <td>25-30</td>\n",
       "      <td>No</td>\n",
       "      <td>Sometimes</td>\n",
       "      <td>Two or more days a week</td>\n",
       "      <td>No</td>\n",
       "      <td>No</td>\n",
       "      <td>No</td>\n",
       "      <td>Yes</td>\n",
       "      <td>No</td>\n",
       "      <td>Not interested to say</td>\n",
       "    </tr>\n",
       "    <tr>\n",
       "      <th>1501</th>\n",
       "      <td>25-30</td>\n",
       "      <td>No</td>\n",
       "      <td>Sometimes</td>\n",
       "      <td>Yes</td>\n",
       "      <td>Often</td>\n",
       "      <td>No</td>\n",
       "      <td>Yes</td>\n",
       "      <td>No</td>\n",
       "      <td>No</td>\n",
       "      <td>No</td>\n",
       "    </tr>\n",
       "    <tr>\n",
       "      <th>1502</th>\n",
       "      <td>45-50</td>\n",
       "      <td>Sometimes</td>\n",
       "      <td>Sometimes</td>\n",
       "      <td>Two or more days a week</td>\n",
       "      <td>No</td>\n",
       "      <td>No</td>\n",
       "      <td>No</td>\n",
       "      <td>Maybe</td>\n",
       "      <td>No</td>\n",
       "      <td>No</td>\n",
       "    </tr>\n",
       "  </tbody>\n",
       "</table>\n",
       "<p>1503 rows × 10 columns</p>\n",
       "</div>"
      ],
      "text/plain": [
       "        Age Feeling sad or Tearful Irritable towards baby & partner  \\\n",
       "0     35-40                    Yes                              Yes   \n",
       "1     40-45                    Yes                               No   \n",
       "2     35-40                    Yes                               No   \n",
       "3     35-40                    Yes                              Yes   \n",
       "4     40-45                    Yes                               No   \n",
       "...     ...                    ...                              ...   \n",
       "1498  30-35                    Yes                               No   \n",
       "1499  25-30              Sometimes                               No   \n",
       "1500  25-30                     No                        Sometimes   \n",
       "1501  25-30                     No                        Sometimes   \n",
       "1502  45-50              Sometimes                        Sometimes   \n",
       "\n",
       "     Trouble sleeping at night Problems concentrating or making decision  \\\n",
       "0      Two or more days a week                                       Yes   \n",
       "1                           No                                       Yes   \n",
       "2                          Yes                                       Yes   \n",
       "3                          Yes                                       Yes   \n",
       "4      Two or more days a week                                       Yes   \n",
       "...                        ...                                       ...   \n",
       "1498   Two or more days a week                                        No   \n",
       "1499                        No                                     Often   \n",
       "1500   Two or more days a week                                        No   \n",
       "1501                       Yes                                     Often   \n",
       "1502   Two or more days a week                                        No   \n",
       "\n",
       "     Overeating or loss of appetite Feeling anxious Feeling of guilt  \\\n",
       "0                               Yes             Yes               No   \n",
       "1                               Yes              No              Yes   \n",
       "2                               Yes             Yes               No   \n",
       "3                                No             Yes            Maybe   \n",
       "4                                No             Yes               No   \n",
       "...                             ...             ...              ...   \n",
       "1498                             No             Yes            Maybe   \n",
       "1499                             No             Yes            Maybe   \n",
       "1500                             No              No              Yes   \n",
       "1501                             No             Yes               No   \n",
       "1502                             No              No            Maybe   \n",
       "\n",
       "     Problems of bonding with baby        Suicide attempt  \n",
       "0                              Yes                    Yes  \n",
       "1                              Yes                     No  \n",
       "2                        Sometimes                     No  \n",
       "3                               No                     No  \n",
       "4                              Yes                     No  \n",
       "...                            ...                    ...  \n",
       "1498                     Sometimes                     No  \n",
       "1499                           Yes                     No  \n",
       "1500                            No  Not interested to say  \n",
       "1501                            No                     No  \n",
       "1502                            No                     No  \n",
       "\n",
       "[1503 rows x 10 columns]"
      ]
     },
     "execution_count": 3,
     "metadata": {},
     "output_type": "execute_result"
    }
   ],
   "source": [
    "data.drop('Timestamp', axis=1, inplace=True)\n",
    "data"
   ]
  },
  {
   "cell_type": "markdown",
   "metadata": {},
   "source": [
    "# Melihat keunikan tiap kolom"
   ]
  },
  {
   "cell_type": "code",
   "execution_count": 4,
   "metadata": {},
   "outputs": [
    {
     "name": "stdout",
     "output_type": "stream",
     "text": [
      "Age ['35-40' '40-45' '30-35' '45-50' '25-30']\n",
      "Feeling sad or Tearful ['Yes' 'No' 'Sometimes']\n",
      "Irritable towards baby & partner ['Yes' 'No' 'Sometimes' nan]\n",
      "Trouble sleeping at night ['Two or more days a week' 'No' 'Yes']\n",
      "Problems concentrating or making decision ['Yes' 'No' 'Often' nan]\n",
      "Overeating or loss of appetite ['Yes' 'No' 'Not at all']\n",
      "Feeling anxious ['Yes' 'No']\n",
      "Feeling of guilt ['No' 'Yes' 'Maybe' nan]\n",
      "Problems of bonding with baby ['Yes' 'Sometimes' 'No']\n",
      "Suicide attempt ['Yes' 'No' 'Not interested to say']\n"
     ]
    }
   ],
   "source": [
    "for col in data:\n",
    "    print(col, data[col].unique())"
   ]
  },
  {
   "cell_type": "markdown",
   "metadata": {},
   "source": [
    "# Melihat total data kosong"
   ]
  },
  {
   "cell_type": "code",
   "execution_count": 5,
   "metadata": {},
   "outputs": [
    {
     "data": {
      "text/plain": [
       "Age                                           0\n",
       "Feeling sad or Tearful                        0\n",
       "Irritable towards baby & partner              6\n",
       "Trouble sleeping at night                     0\n",
       "Problems concentrating or making decision    12\n",
       "Overeating or loss of appetite                0\n",
       "Feeling anxious                               0\n",
       "Feeling of guilt                              9\n",
       "Problems of bonding with baby                 0\n",
       "Suicide attempt                               0\n",
       "dtype: int64"
      ]
     },
     "execution_count": 5,
     "metadata": {},
     "output_type": "execute_result"
    }
   ],
   "source": [
    "data.isna().sum()"
   ]
  },
  {
   "cell_type": "markdown",
   "metadata": {},
   "source": [
    "# Menghapus semua baris data yang kosong"
   ]
  },
  {
   "cell_type": "code",
   "execution_count": 6,
   "metadata": {},
   "outputs": [
    {
     "data": {
      "text/html": [
       "<div>\n",
       "<style scoped>\n",
       "    .dataframe tbody tr th:only-of-type {\n",
       "        vertical-align: middle;\n",
       "    }\n",
       "\n",
       "    .dataframe tbody tr th {\n",
       "        vertical-align: top;\n",
       "    }\n",
       "\n",
       "    .dataframe thead th {\n",
       "        text-align: right;\n",
       "    }\n",
       "</style>\n",
       "<table border=\"1\" class=\"dataframe\">\n",
       "  <thead>\n",
       "    <tr style=\"text-align: right;\">\n",
       "      <th></th>\n",
       "      <th>Age</th>\n",
       "      <th>Feeling sad or Tearful</th>\n",
       "      <th>Irritable towards baby &amp; partner</th>\n",
       "      <th>Trouble sleeping at night</th>\n",
       "      <th>Problems concentrating or making decision</th>\n",
       "      <th>Overeating or loss of appetite</th>\n",
       "      <th>Feeling anxious</th>\n",
       "      <th>Feeling of guilt</th>\n",
       "      <th>Problems of bonding with baby</th>\n",
       "      <th>Suicide attempt</th>\n",
       "    </tr>\n",
       "  </thead>\n",
       "  <tbody>\n",
       "    <tr>\n",
       "      <th>0</th>\n",
       "      <td>35-40</td>\n",
       "      <td>Yes</td>\n",
       "      <td>Yes</td>\n",
       "      <td>Two or more days a week</td>\n",
       "      <td>Yes</td>\n",
       "      <td>Yes</td>\n",
       "      <td>Yes</td>\n",
       "      <td>No</td>\n",
       "      <td>Yes</td>\n",
       "      <td>Yes</td>\n",
       "    </tr>\n",
       "    <tr>\n",
       "      <th>1</th>\n",
       "      <td>40-45</td>\n",
       "      <td>Yes</td>\n",
       "      <td>No</td>\n",
       "      <td>No</td>\n",
       "      <td>Yes</td>\n",
       "      <td>Yes</td>\n",
       "      <td>No</td>\n",
       "      <td>Yes</td>\n",
       "      <td>Yes</td>\n",
       "      <td>No</td>\n",
       "    </tr>\n",
       "    <tr>\n",
       "      <th>2</th>\n",
       "      <td>35-40</td>\n",
       "      <td>Yes</td>\n",
       "      <td>No</td>\n",
       "      <td>Yes</td>\n",
       "      <td>Yes</td>\n",
       "      <td>Yes</td>\n",
       "      <td>Yes</td>\n",
       "      <td>No</td>\n",
       "      <td>Sometimes</td>\n",
       "      <td>No</td>\n",
       "    </tr>\n",
       "    <tr>\n",
       "      <th>3</th>\n",
       "      <td>35-40</td>\n",
       "      <td>Yes</td>\n",
       "      <td>Yes</td>\n",
       "      <td>Yes</td>\n",
       "      <td>Yes</td>\n",
       "      <td>No</td>\n",
       "      <td>Yes</td>\n",
       "      <td>Maybe</td>\n",
       "      <td>No</td>\n",
       "      <td>No</td>\n",
       "    </tr>\n",
       "    <tr>\n",
       "      <th>4</th>\n",
       "      <td>40-45</td>\n",
       "      <td>Yes</td>\n",
       "      <td>No</td>\n",
       "      <td>Two or more days a week</td>\n",
       "      <td>Yes</td>\n",
       "      <td>No</td>\n",
       "      <td>Yes</td>\n",
       "      <td>No</td>\n",
       "      <td>Yes</td>\n",
       "      <td>No</td>\n",
       "    </tr>\n",
       "    <tr>\n",
       "      <th>...</th>\n",
       "      <td>...</td>\n",
       "      <td>...</td>\n",
       "      <td>...</td>\n",
       "      <td>...</td>\n",
       "      <td>...</td>\n",
       "      <td>...</td>\n",
       "      <td>...</td>\n",
       "      <td>...</td>\n",
       "      <td>...</td>\n",
       "      <td>...</td>\n",
       "    </tr>\n",
       "    <tr>\n",
       "      <th>1498</th>\n",
       "      <td>30-35</td>\n",
       "      <td>Yes</td>\n",
       "      <td>No</td>\n",
       "      <td>Two or more days a week</td>\n",
       "      <td>No</td>\n",
       "      <td>No</td>\n",
       "      <td>Yes</td>\n",
       "      <td>Maybe</td>\n",
       "      <td>Sometimes</td>\n",
       "      <td>No</td>\n",
       "    </tr>\n",
       "    <tr>\n",
       "      <th>1499</th>\n",
       "      <td>25-30</td>\n",
       "      <td>Sometimes</td>\n",
       "      <td>No</td>\n",
       "      <td>No</td>\n",
       "      <td>Often</td>\n",
       "      <td>No</td>\n",
       "      <td>Yes</td>\n",
       "      <td>Maybe</td>\n",
       "      <td>Yes</td>\n",
       "      <td>No</td>\n",
       "    </tr>\n",
       "    <tr>\n",
       "      <th>1500</th>\n",
       "      <td>25-30</td>\n",
       "      <td>No</td>\n",
       "      <td>Sometimes</td>\n",
       "      <td>Two or more days a week</td>\n",
       "      <td>No</td>\n",
       "      <td>No</td>\n",
       "      <td>No</td>\n",
       "      <td>Yes</td>\n",
       "      <td>No</td>\n",
       "      <td>Not interested to say</td>\n",
       "    </tr>\n",
       "    <tr>\n",
       "      <th>1501</th>\n",
       "      <td>25-30</td>\n",
       "      <td>No</td>\n",
       "      <td>Sometimes</td>\n",
       "      <td>Yes</td>\n",
       "      <td>Often</td>\n",
       "      <td>No</td>\n",
       "      <td>Yes</td>\n",
       "      <td>No</td>\n",
       "      <td>No</td>\n",
       "      <td>No</td>\n",
       "    </tr>\n",
       "    <tr>\n",
       "      <th>1502</th>\n",
       "      <td>45-50</td>\n",
       "      <td>Sometimes</td>\n",
       "      <td>Sometimes</td>\n",
       "      <td>Two or more days a week</td>\n",
       "      <td>No</td>\n",
       "      <td>No</td>\n",
       "      <td>No</td>\n",
       "      <td>Maybe</td>\n",
       "      <td>No</td>\n",
       "      <td>No</td>\n",
       "    </tr>\n",
       "  </tbody>\n",
       "</table>\n",
       "<p>1491 rows × 10 columns</p>\n",
       "</div>"
      ],
      "text/plain": [
       "        Age Feeling sad or Tearful Irritable towards baby & partner  \\\n",
       "0     35-40                    Yes                              Yes   \n",
       "1     40-45                    Yes                               No   \n",
       "2     35-40                    Yes                               No   \n",
       "3     35-40                    Yes                              Yes   \n",
       "4     40-45                    Yes                               No   \n",
       "...     ...                    ...                              ...   \n",
       "1498  30-35                    Yes                               No   \n",
       "1499  25-30              Sometimes                               No   \n",
       "1500  25-30                     No                        Sometimes   \n",
       "1501  25-30                     No                        Sometimes   \n",
       "1502  45-50              Sometimes                        Sometimes   \n",
       "\n",
       "     Trouble sleeping at night Problems concentrating or making decision  \\\n",
       "0      Two or more days a week                                       Yes   \n",
       "1                           No                                       Yes   \n",
       "2                          Yes                                       Yes   \n",
       "3                          Yes                                       Yes   \n",
       "4      Two or more days a week                                       Yes   \n",
       "...                        ...                                       ...   \n",
       "1498   Two or more days a week                                        No   \n",
       "1499                        No                                     Often   \n",
       "1500   Two or more days a week                                        No   \n",
       "1501                       Yes                                     Often   \n",
       "1502   Two or more days a week                                        No   \n",
       "\n",
       "     Overeating or loss of appetite Feeling anxious Feeling of guilt  \\\n",
       "0                               Yes             Yes               No   \n",
       "1                               Yes              No              Yes   \n",
       "2                               Yes             Yes               No   \n",
       "3                                No             Yes            Maybe   \n",
       "4                                No             Yes               No   \n",
       "...                             ...             ...              ...   \n",
       "1498                             No             Yes            Maybe   \n",
       "1499                             No             Yes            Maybe   \n",
       "1500                             No              No              Yes   \n",
       "1501                             No             Yes               No   \n",
       "1502                             No              No            Maybe   \n",
       "\n",
       "     Problems of bonding with baby        Suicide attempt  \n",
       "0                              Yes                    Yes  \n",
       "1                              Yes                     No  \n",
       "2                        Sometimes                     No  \n",
       "3                               No                     No  \n",
       "4                              Yes                     No  \n",
       "...                            ...                    ...  \n",
       "1498                     Sometimes                     No  \n",
       "1499                           Yes                     No  \n",
       "1500                            No  Not interested to say  \n",
       "1501                            No                     No  \n",
       "1502                            No                     No  \n",
       "\n",
       "[1491 rows x 10 columns]"
      ]
     },
     "execution_count": 6,
     "metadata": {},
     "output_type": "execute_result"
    }
   ],
   "source": [
    "data.dropna(axis=0, inplace=True)\n",
    "data"
   ]
  },
  {
   "cell_type": "code",
   "execution_count": 7,
   "metadata": {},
   "outputs": [
    {
     "data": {
      "text/plain": [
       "0"
      ]
     },
     "execution_count": 7,
     "metadata": {},
     "output_type": "execute_result"
    }
   ],
   "source": [
    "data.isna().sum().sum()"
   ]
  },
  {
   "cell_type": "markdown",
   "metadata": {},
   "source": [
    "# Menganalisa plot dari tiap data"
   ]
  },
  {
   "cell_type": "code",
   "execution_count": 13,
   "metadata": {},
   "outputs": [
    {
     "name": "stderr",
     "output_type": "stream",
     "text": [
      "d:\\Programs\\Lib\\site-packages\\seaborn\\axisgrid.py:118: UserWarning: The figure layout has changed to tight\n",
      "  self._figure.tight_layout(*args, **kwargs)\n"
     ]
    },
    {
     "data": {
      "text/plain": [
       "<seaborn.axisgrid.FacetGrid at 0x1d979446590>"
      ]
     },
     "execution_count": 13,
     "metadata": {},
     "output_type": "execute_result"
    },
    {
     "data": {
      "image/png": "[encoded data removed]",
      "text/plain": [
       "<Figure size 500x500 with 1 Axes>"
      ]
     },
     "metadata": {},
     "output_type": "display_data"
    }
   ],
   "source": [
    "sns.displot(data['Age'])"
   ]
  },
  {
   "cell_type": "code",
   "execution_count": 14,
   "metadata": {},
   "outputs": [
    {
     "name": "stderr",
     "output_type": "stream",
     "text": [
      "d:\\Programs\\Lib\\site-packages\\seaborn\\axisgrid.py:118: UserWarning: The figure layout has changed to tight\n",
      "  self._figure.tight_layout(*args, **kwargs)\n"
     ]
    },
    {
     "data": {
      "text/plain": [
       "<seaborn.axisgrid.FacetGrid at 0x1d9783fdc10>"
      ]
     },
     "execution_count": 14,
     "metadata": {},
     "output_type": "execute_result"
    },
    {
     "data": {
      "image/png": "[encoded data removed]",
      "text/plain": [
       "<Figure size 500x500 with 1 Axes>"
      ]
     },
     "metadata": {},
     "output_type": "display_data"
    }
   ],
   "source": [
    "sns.displot(data['Feeling sad or Tearful'])"
   ]
  },
  {
   "cell_type": "code",
   "execution_count": 15,
   "metadata": {},
   "outputs": [
    {
     "name": "stderr",
     "output_type": "stream",
     "text": [
      "d:\\Programs\\Lib\\site-packages\\seaborn\\axisgrid.py:118: UserWarning: The figure layout has changed to tight\n",
      "  self._figure.tight_layout(*args, **kwargs)\n"
     ]
    },
    {
     "data": {
      "text/plain": [
       "<seaborn.axisgrid.FacetGrid at 0x1d9795e3290>"
      ]
     },
     "execution_count": 15,
     "metadata": {},
     "output_type": "execute_result"
    },
    {
     "data": {
      "image/png": "[encoded data removed]",
      "text/plain": [
       "<Figure size 500x500 with 1 Axes>"
      ]
     },
     "metadata": {},
     "output_type": "display_data"
    }
   ],
   "source": [
    "sns.displot(data['Irritable towards baby & partner'])"
   ]
  },
  {
   "cell_type": "code",
   "execution_count": 17,
   "metadata": {},
   "outputs": [
    {
     "name": "stderr",
     "output_type": "stream",
     "text": [
      "d:\\Programs\\Lib\\site-packages\\seaborn\\axisgrid.py:118: UserWarning: The figure layout has changed to tight\n",
      "  self._figure.tight_layout(*args, **kwargs)\n"
     ]
    },
    {
     "data": {
      "text/plain": [
       "<seaborn.axisgrid.FacetGrid at 0x1d97842f310>"
      ]
     },
     "execution_count": 17,
     "metadata": {},
     "output_type": "execute_result"
    },
    {
     "data": {
      "image/png": "[encoded data removed]",
      "text/plain": [
       "<Figure size 500x500 with 1 Axes>"
      ]
     },
     "metadata": {},
     "output_type": "display_data"
    }
   ],
   "source": [
    "sns.displot(data['Trouble sleeping at night'])"
   ]
  },
  {
   "cell_type": "code",
   "execution_count": 12,
   "metadata": {},
   "outputs": [
    {
     "name": "stderr",
     "output_type": "stream",
     "text": [
      "d:\\Programs\\Lib\\site-packages\\seaborn\\axisgrid.py:118: UserWarning: The figure layout has changed to tight\n",
      "  self._figure.tight_layout(*args, **kwargs)\n"
     ]
    },
    {
     "data": {
      "text/plain": [
       "<seaborn.axisgrid.FacetGrid at 0x1d979411910>"
      ]
     },
     "execution_count": 12,
     "metadata": {},
     "output_type": "execute_result"
    },
    {
     "data": {
      "image/png": "[encoded data removed]",
      "text/plain": [
       "<Figure size 500x500 with 1 Axes>"
      ]
     },
     "metadata": {},
     "output_type": "display_data"
    }
   ],
   "source": [
    "sns.displot(data['Problems concentrating or making decision'])"
   ]
  },
  {
   "cell_type": "code",
   "execution_count": 18,
   "metadata": {},
   "outputs": [
    {
     "name": "stderr",
     "output_type": "stream",
     "text": [
      "d:\\Programs\\Lib\\site-packages\\seaborn\\axisgrid.py:118: UserWarning: The figure layout has changed to tight\n",
      "  self._figure.tight_layout(*args, **kwargs)\n"
     ]
    },
    {
     "data": {
      "text/plain": [
       "<seaborn.axisgrid.FacetGrid at 0x1d97a720bd0>"
      ]
     },
     "execution_count": 18,
     "metadata": {},
     "output_type": "execute_result"
    },
    {
     "data": {
      "image/png": "[encoded data removed]",
      "text/plain": [
       "<Figure size 500x500 with 1 Axes>"
      ]
     },
     "metadata": {},
     "output_type": "display_data"
    }
   ],
   "source": [
    "sns.displot(data['Overeating or loss of appetite'])"
   ]
  },
  {
   "cell_type": "code",
   "execution_count": 19,
   "metadata": {},
   "outputs": [
    {
     "name": "stderr",
     "output_type": "stream",
     "text": [
      "d:\\Programs\\Lib\\site-packages\\seaborn\\axisgrid.py:118: UserWarning: The figure layout has changed to tight\n",
      "  self._figure.tight_layout(*args, **kwargs)\n"
     ]
    },
    {
     "data": {
      "text/plain": [
       "<seaborn.axisgrid.FacetGrid at 0x1d9795f7e50>"
      ]
     },
     "execution_count": 19,
     "metadata": {},
     "output_type": "execute_result"
    },
    {
     "data": {
      "image/png": "[encoded data removed]",
      "text/plain": [
       "<Figure size 500x500 with 1 Axes>"
      ]
     },
     "metadata": {},
     "output_type": "display_data"
    }
   ],
   "source": [
    "sns.displot(data['Feeling anxious'])"
   ]
  },
  {
   "cell_type": "code",
   "execution_count": 20,
   "metadata": {},
   "outputs": [
    {
     "name": "stderr",
     "output_type": "stream",
     "text": [
      "d:\\Programs\\Lib\\site-packages\\seaborn\\axisgrid.py:118: UserWarning: The figure layout has changed to tight\n",
      "  self._figure.tight_layout(*args, **kwargs)\n"
     ]
    },
    {
     "data": {
      "text/plain": [
       "<seaborn.axisgrid.FacetGrid at 0x1d97970a650>"
      ]
     },
     "execution_count": 20,
     "metadata": {},
     "output_type": "execute_result"
    },
    {
     "data": {
      "image/png": "[encoded data removed]",
      "text/plain": [
       "<Figure size 500x500 with 1 Axes>"
      ]
     },
     "metadata": {},
     "output_type": "display_data"
    }
   ],
   "source": [
    "sns.displot(data['Feeling of guilt'])"
   ]
  },
  {
   "cell_type": "code",
   "execution_count": 21,
   "metadata": {},
   "outputs": [
    {
     "name": "stderr",
     "output_type": "stream",
     "text": [
      "d:\\Programs\\Lib\\site-packages\\seaborn\\axisgrid.py:118: UserWarning: The figure layout has changed to tight\n",
      "  self._figure.tight_layout(*args, **kwargs)\n"
     ]
    },
    {
     "data": {
      "text/plain": [
       "<seaborn.axisgrid.FacetGrid at 0x1d97a7bbf90>"
      ]
     },
     "execution_count": 21,
     "metadata": {},
     "output_type": "execute_result"
    },
    {
     "data": {
      "image/png": "[encoded data removed]",
      "text/plain": [
       "<Figure size 500x500 with 1 Axes>"
      ]
     },
     "metadata": {},
     "output_type": "display_data"
    }
   ],
   "source": [
    "sns.displot(data['Problems of bonding with baby'])"
   ]
  },
  {
   "cell_type": "code",
   "execution_count": 23,
   "metadata": {},
   "outputs": [
    {
     "name": "stderr",
     "output_type": "stream",
     "text": [
      "d:\\Programs\\Lib\\site-packages\\seaborn\\axisgrid.py:118: UserWarning: The figure layout has changed to tight\n",
      "  self._figure.tight_layout(*args, **kwargs)\n"
     ]
    },
    {
     "data": {
      "text/plain": [
       "<seaborn.axisgrid.FacetGrid at 0x1d97a8eb7d0>"
      ]
     },
     "execution_count": 23,
     "metadata": {},
     "output_type": "execute_result"
    },
    {
     "data": {
      "image/png": "[encoded data removed]",
      "text/plain": [
       "<Figure size 500x500 with 1 Axes>"
      ]
     },
     "metadata": {},
     "output_type": "display_data"
    }
   ],
   "source": [
    "sns.displot(data['Suicide attempt'])"
   ]
  },
  {
   "cell_type": "markdown",
   "metadata": {},
   "source": [
    "# Menganalisa siapa yuang anxiety"
   ]
  },
  {
   "cell_type": "code",
   "execution_count": 25,
   "metadata": {},
   "outputs": [
    {
     "data": {
      "text/html": [
       "<div>\n",
       "<style scoped>\n",
       "    .dataframe tbody tr th:only-of-type {\n",
       "        vertical-align: middle;\n",
       "    }\n",
       "\n",
       "    .dataframe tbody tr th {\n",
       "        vertical-align: top;\n",
       "    }\n",
       "\n",
       "    .dataframe thead th {\n",
       "        text-align: right;\n",
       "    }\n",
       "</style>\n",
       "<table border=\"1\" class=\"dataframe\">\n",
       "  <thead>\n",
       "    <tr style=\"text-align: right;\">\n",
       "      <th></th>\n",
       "      <th>Age</th>\n",
       "      <th>Feeling sad or Tearful</th>\n",
       "      <th>Irritable towards baby &amp; partner</th>\n",
       "      <th>Trouble sleeping at night</th>\n",
       "      <th>Problems concentrating or making decision</th>\n",
       "      <th>Overeating or loss of appetite</th>\n",
       "      <th>Feeling anxious</th>\n",
       "      <th>Feeling of guilt</th>\n",
       "      <th>Problems of bonding with baby</th>\n",
       "      <th>Suicide attempt</th>\n",
       "    </tr>\n",
       "  </thead>\n",
       "  <tbody>\n",
       "    <tr>\n",
       "      <th>0</th>\n",
       "      <td>35-40</td>\n",
       "      <td>Yes</td>\n",
       "      <td>Yes</td>\n",
       "      <td>Two or more days a week</td>\n",
       "      <td>Yes</td>\n",
       "      <td>Yes</td>\n",
       "      <td>Yes</td>\n",
       "      <td>No</td>\n",
       "      <td>Yes</td>\n",
       "      <td>Yes</td>\n",
       "    </tr>\n",
       "    <tr>\n",
       "      <th>2</th>\n",
       "      <td>35-40</td>\n",
       "      <td>Yes</td>\n",
       "      <td>No</td>\n",
       "      <td>Yes</td>\n",
       "      <td>Yes</td>\n",
       "      <td>Yes</td>\n",
       "      <td>Yes</td>\n",
       "      <td>No</td>\n",
       "      <td>Sometimes</td>\n",
       "      <td>No</td>\n",
       "    </tr>\n",
       "    <tr>\n",
       "      <th>3</th>\n",
       "      <td>35-40</td>\n",
       "      <td>Yes</td>\n",
       "      <td>Yes</td>\n",
       "      <td>Yes</td>\n",
       "      <td>Yes</td>\n",
       "      <td>No</td>\n",
       "      <td>Yes</td>\n",
       "      <td>Maybe</td>\n",
       "      <td>No</td>\n",
       "      <td>No</td>\n",
       "    </tr>\n",
       "    <tr>\n",
       "      <th>4</th>\n",
       "      <td>40-45</td>\n",
       "      <td>Yes</td>\n",
       "      <td>No</td>\n",
       "      <td>Two or more days a week</td>\n",
       "      <td>Yes</td>\n",
       "      <td>No</td>\n",
       "      <td>Yes</td>\n",
       "      <td>No</td>\n",
       "      <td>Yes</td>\n",
       "      <td>No</td>\n",
       "    </tr>\n",
       "    <tr>\n",
       "      <th>5</th>\n",
       "      <td>30-35</td>\n",
       "      <td>No</td>\n",
       "      <td>No</td>\n",
       "      <td>Yes</td>\n",
       "      <td>Yes</td>\n",
       "      <td>Yes</td>\n",
       "      <td>Yes</td>\n",
       "      <td>No</td>\n",
       "      <td>No</td>\n",
       "      <td>Yes</td>\n",
       "    </tr>\n",
       "    <tr>\n",
       "      <th>...</th>\n",
       "      <td>...</td>\n",
       "      <td>...</td>\n",
       "      <td>...</td>\n",
       "      <td>...</td>\n",
       "      <td>...</td>\n",
       "      <td>...</td>\n",
       "      <td>...</td>\n",
       "      <td>...</td>\n",
       "      <td>...</td>\n",
       "      <td>...</td>\n",
       "    </tr>\n",
       "    <tr>\n",
       "      <th>1496</th>\n",
       "      <td>35-40</td>\n",
       "      <td>Sometimes</td>\n",
       "      <td>Yes</td>\n",
       "      <td>Two or more days a week</td>\n",
       "      <td>Yes</td>\n",
       "      <td>No</td>\n",
       "      <td>Yes</td>\n",
       "      <td>Maybe</td>\n",
       "      <td>Sometimes</td>\n",
       "      <td>Not interested to say</td>\n",
       "    </tr>\n",
       "    <tr>\n",
       "      <th>1497</th>\n",
       "      <td>45-50</td>\n",
       "      <td>Yes</td>\n",
       "      <td>Yes</td>\n",
       "      <td>No</td>\n",
       "      <td>Often</td>\n",
       "      <td>Not at all</td>\n",
       "      <td>Yes</td>\n",
       "      <td>Maybe</td>\n",
       "      <td>Sometimes</td>\n",
       "      <td>No</td>\n",
       "    </tr>\n",
       "    <tr>\n",
       "      <th>1498</th>\n",
       "      <td>30-35</td>\n",
       "      <td>Yes</td>\n",
       "      <td>No</td>\n",
       "      <td>Two or more days a week</td>\n",
       "      <td>No</td>\n",
       "      <td>No</td>\n",
       "      <td>Yes</td>\n",
       "      <td>Maybe</td>\n",
       "      <td>Sometimes</td>\n",
       "      <td>No</td>\n",
       "    </tr>\n",
       "    <tr>\n",
       "      <th>1499</th>\n",
       "      <td>25-30</td>\n",
       "      <td>Sometimes</td>\n",
       "      <td>No</td>\n",
       "      <td>No</td>\n",
       "      <td>Often</td>\n",
       "      <td>No</td>\n",
       "      <td>Yes</td>\n",
       "      <td>Maybe</td>\n",
       "      <td>Yes</td>\n",
       "      <td>No</td>\n",
       "    </tr>\n",
       "    <tr>\n",
       "      <th>1501</th>\n",
       "      <td>25-30</td>\n",
       "      <td>No</td>\n",
       "      <td>Sometimes</td>\n",
       "      <td>Yes</td>\n",
       "      <td>Often</td>\n",
       "      <td>No</td>\n",
       "      <td>Yes</td>\n",
       "      <td>No</td>\n",
       "      <td>No</td>\n",
       "      <td>No</td>\n",
       "    </tr>\n",
       "  </tbody>\n",
       "</table>\n",
       "<p>968 rows × 10 columns</p>\n",
       "</div>"
      ],
      "text/plain": [
       "        Age Feeling sad or Tearful Irritable towards baby & partner  \\\n",
       "0     35-40                    Yes                              Yes   \n",
       "2     35-40                    Yes                               No   \n",
       "3     35-40                    Yes                              Yes   \n",
       "4     40-45                    Yes                               No   \n",
       "5     30-35                     No                               No   \n",
       "...     ...                    ...                              ...   \n",
       "1496  35-40              Sometimes                              Yes   \n",
       "1497  45-50                    Yes                              Yes   \n",
       "1498  30-35                    Yes                               No   \n",
       "1499  25-30              Sometimes                               No   \n",
       "1501  25-30                     No                        Sometimes   \n",
       "\n",
       "     Trouble sleeping at night Problems concentrating or making decision  \\\n",
       "0      Two or more days a week                                       Yes   \n",
       "2                          Yes                                       Yes   \n",
       "3                          Yes                                       Yes   \n",
       "4      Two or more days a week                                       Yes   \n",
       "5                          Yes                                       Yes   \n",
       "...                        ...                                       ...   \n",
       "1496   Two or more days a week                                       Yes   \n",
       "1497                        No                                     Often   \n",
       "1498   Two or more days a week                                        No   \n",
       "1499                        No                                     Often   \n",
       "1501                       Yes                                     Often   \n",
       "\n",
       "     Overeating or loss of appetite Feeling anxious Feeling of guilt  \\\n",
       "0                               Yes             Yes               No   \n",
       "2                               Yes             Yes               No   \n",
       "3                                No             Yes            Maybe   \n",
       "4                                No             Yes               No   \n",
       "5                               Yes             Yes               No   \n",
       "...                             ...             ...              ...   \n",
       "1496                             No             Yes            Maybe   \n",
       "1497                     Not at all             Yes            Maybe   \n",
       "1498                             No             Yes            Maybe   \n",
       "1499                             No             Yes            Maybe   \n",
       "1501                             No             Yes               No   \n",
       "\n",
       "     Problems of bonding with baby        Suicide attempt  \n",
       "0                              Yes                    Yes  \n",
       "2                        Sometimes                     No  \n",
       "3                               No                     No  \n",
       "4                              Yes                     No  \n",
       "5                               No                    Yes  \n",
       "...                            ...                    ...  \n",
       "1496                     Sometimes  Not interested to say  \n",
       "1497                     Sometimes                     No  \n",
       "1498                     Sometimes                     No  \n",
       "1499                           Yes                     No  \n",
       "1501                            No                     No  \n",
       "\n",
       "[968 rows x 10 columns]"
      ]
     },
     "execution_count": 25,
     "metadata": {},
     "output_type": "execute_result"
    }
   ],
   "source": [
    "anxiety_df = data[data['Feeling anxious'] == 'Yes']\n",
    "anxiety_df"
   ]
  },
  {
   "cell_type": "markdown",
   "metadata": {},
   "source": [
    "# Meng-encode kolom"
   ]
  },
  {
   "cell_type": "code",
   "execution_count": 26,
   "metadata": {},
   "outputs": [
    {
     "data": {
      "text/plain": [
       "0       3\n",
       "1       4\n",
       "2       3\n",
       "3       3\n",
       "4       4\n",
       "       ..\n",
       "1498    2\n",
       "1499    1\n",
       "1500    1\n",
       "1501    1\n",
       "1502    5\n",
       "Name: Age, Length: 1491, dtype: int64"
      ]
     },
     "execution_count": 26,
     "metadata": {},
     "output_type": "execute_result"
    }
   ],
   "source": [
    "age_dic = {'35-40':3, '40-45':4, '30-35':2,  '45-50':5, '25-30':1}\n",
    "data['Age'].replace(age_dic, inplace=True)\n",
    "data['Age']"
   ]
  },
  {
   "cell_type": "code",
   "execution_count": 27,
   "metadata": {},
   "outputs": [
    {
     "data": {
      "text/html": [
       "<div>\n",
       "<style scoped>\n",
       "    .dataframe tbody tr th:only-of-type {\n",
       "        vertical-align: middle;\n",
       "    }\n",
       "\n",
       "    .dataframe tbody tr th {\n",
       "        vertical-align: top;\n",
       "    }\n",
       "\n",
       "    .dataframe thead th {\n",
       "        text-align: right;\n",
       "    }\n",
       "</style>\n",
       "<table border=\"1\" class=\"dataframe\">\n",
       "  <thead>\n",
       "    <tr style=\"text-align: right;\">\n",
       "      <th></th>\n",
       "      <th>Age</th>\n",
       "      <th>Feeling sad or Tearful</th>\n",
       "      <th>Irritable towards baby &amp; partner</th>\n",
       "      <th>Trouble sleeping at night</th>\n",
       "      <th>Problems concentrating or making decision</th>\n",
       "      <th>Overeating or loss of appetite</th>\n",
       "      <th>Feeling anxious</th>\n",
       "      <th>Feeling of guilt</th>\n",
       "      <th>Problems of bonding with baby</th>\n",
       "      <th>Suicide attempt</th>\n",
       "    </tr>\n",
       "  </thead>\n",
       "  <tbody>\n",
       "    <tr>\n",
       "      <th>0</th>\n",
       "      <td>3</td>\n",
       "      <td>1</td>\n",
       "      <td>1</td>\n",
       "      <td>2</td>\n",
       "      <td>1</td>\n",
       "      <td>1</td>\n",
       "      <td>1</td>\n",
       "      <td>0</td>\n",
       "      <td>1</td>\n",
       "      <td>1</td>\n",
       "    </tr>\n",
       "    <tr>\n",
       "      <th>1</th>\n",
       "      <td>4</td>\n",
       "      <td>1</td>\n",
       "      <td>0</td>\n",
       "      <td>0</td>\n",
       "      <td>1</td>\n",
       "      <td>1</td>\n",
       "      <td>0</td>\n",
       "      <td>1</td>\n",
       "      <td>1</td>\n",
       "      <td>0</td>\n",
       "    </tr>\n",
       "    <tr>\n",
       "      <th>2</th>\n",
       "      <td>3</td>\n",
       "      <td>1</td>\n",
       "      <td>0</td>\n",
       "      <td>1</td>\n",
       "      <td>1</td>\n",
       "      <td>1</td>\n",
       "      <td>1</td>\n",
       "      <td>0</td>\n",
       "      <td>2</td>\n",
       "      <td>0</td>\n",
       "    </tr>\n",
       "    <tr>\n",
       "      <th>3</th>\n",
       "      <td>3</td>\n",
       "      <td>1</td>\n",
       "      <td>1</td>\n",
       "      <td>1</td>\n",
       "      <td>1</td>\n",
       "      <td>0</td>\n",
       "      <td>1</td>\n",
       "      <td>2</td>\n",
       "      <td>0</td>\n",
       "      <td>0</td>\n",
       "    </tr>\n",
       "    <tr>\n",
       "      <th>4</th>\n",
       "      <td>4</td>\n",
       "      <td>1</td>\n",
       "      <td>0</td>\n",
       "      <td>2</td>\n",
       "      <td>1</td>\n",
       "      <td>0</td>\n",
       "      <td>1</td>\n",
       "      <td>0</td>\n",
       "      <td>1</td>\n",
       "      <td>0</td>\n",
       "    </tr>\n",
       "    <tr>\n",
       "      <th>...</th>\n",
       "      <td>...</td>\n",
       "      <td>...</td>\n",
       "      <td>...</td>\n",
       "      <td>...</td>\n",
       "      <td>...</td>\n",
       "      <td>...</td>\n",
       "      <td>...</td>\n",
       "      <td>...</td>\n",
       "      <td>...</td>\n",
       "      <td>...</td>\n",
       "    </tr>\n",
       "    <tr>\n",
       "      <th>1498</th>\n",
       "      <td>2</td>\n",
       "      <td>1</td>\n",
       "      <td>0</td>\n",
       "      <td>2</td>\n",
       "      <td>0</td>\n",
       "      <td>0</td>\n",
       "      <td>1</td>\n",
       "      <td>2</td>\n",
       "      <td>2</td>\n",
       "      <td>0</td>\n",
       "    </tr>\n",
       "    <tr>\n",
       "      <th>1499</th>\n",
       "      <td>1</td>\n",
       "      <td>2</td>\n",
       "      <td>0</td>\n",
       "      <td>0</td>\n",
       "      <td>2</td>\n",
       "      <td>0</td>\n",
       "      <td>1</td>\n",
       "      <td>2</td>\n",
       "      <td>1</td>\n",
       "      <td>0</td>\n",
       "    </tr>\n",
       "    <tr>\n",
       "      <th>1500</th>\n",
       "      <td>1</td>\n",
       "      <td>0</td>\n",
       "      <td>2</td>\n",
       "      <td>2</td>\n",
       "      <td>0</td>\n",
       "      <td>0</td>\n",
       "      <td>0</td>\n",
       "      <td>1</td>\n",
       "      <td>0</td>\n",
       "      <td>2</td>\n",
       "    </tr>\n",
       "    <tr>\n",
       "      <th>1501</th>\n",
       "      <td>1</td>\n",
       "      <td>0</td>\n",
       "      <td>2</td>\n",
       "      <td>1</td>\n",
       "      <td>2</td>\n",
       "      <td>0</td>\n",
       "      <td>1</td>\n",
       "      <td>0</td>\n",
       "      <td>0</td>\n",
       "      <td>0</td>\n",
       "    </tr>\n",
       "    <tr>\n",
       "      <th>1502</th>\n",
       "      <td>5</td>\n",
       "      <td>2</td>\n",
       "      <td>2</td>\n",
       "      <td>2</td>\n",
       "      <td>0</td>\n",
       "      <td>0</td>\n",
       "      <td>0</td>\n",
       "      <td>2</td>\n",
       "      <td>0</td>\n",
       "      <td>0</td>\n",
       "    </tr>\n",
       "  </tbody>\n",
       "</table>\n",
       "<p>1491 rows × 10 columns</p>\n",
       "</div>"
      ],
      "text/plain": [
       "      Age  Feeling sad or Tearful  Irritable towards baby & partner  \\\n",
       "0       3                       1                                 1   \n",
       "1       4                       1                                 0   \n",
       "2       3                       1                                 0   \n",
       "3       3                       1                                 1   \n",
       "4       4                       1                                 0   \n",
       "...   ...                     ...                               ...   \n",
       "1498    2                       1                                 0   \n",
       "1499    1                       2                                 0   \n",
       "1500    1                       0                                 2   \n",
       "1501    1                       0                                 2   \n",
       "1502    5                       2                                 2   \n",
       "\n",
       "      Trouble sleeping at night  Problems concentrating or making decision  \\\n",
       "0                             2                                          1   \n",
       "1                             0                                          1   \n",
       "2                             1                                          1   \n",
       "3                             1                                          1   \n",
       "4                             2                                          1   \n",
       "...                         ...                                        ...   \n",
       "1498                          2                                          0   \n",
       "1499                          0                                          2   \n",
       "1500                          2                                          0   \n",
       "1501                          1                                          2   \n",
       "1502                          2                                          0   \n",
       "\n",
       "      Overeating or loss of appetite  Feeling anxious  Feeling of guilt  \\\n",
       "0                                  1                1                 0   \n",
       "1                                  1                0                 1   \n",
       "2                                  1                1                 0   \n",
       "3                                  0                1                 2   \n",
       "4                                  0                1                 0   \n",
       "...                              ...              ...               ...   \n",
       "1498                               0                1                 2   \n",
       "1499                               0                1                 2   \n",
       "1500                               0                0                 1   \n",
       "1501                               0                1                 0   \n",
       "1502                               0                0                 2   \n",
       "\n",
       "      Problems of bonding with baby  Suicide attempt  \n",
       "0                                 1                1  \n",
       "1                                 1                0  \n",
       "2                                 2                0  \n",
       "3                                 0                0  \n",
       "4                                 1                0  \n",
       "...                             ...              ...  \n",
       "1498                              2                0  \n",
       "1499                              1                0  \n",
       "1500                              0                2  \n",
       "1501                              0                0  \n",
       "1502                              0                0  \n",
       "\n",
       "[1491 rows x 10 columns]"
      ]
     },
     "execution_count": 27,
     "metadata": {},
     "output_type": "execute_result"
    }
   ],
   "source": [
    "df_dic = {'Yes':1, 'No':0, 'Sometimes':2, 'Two or more days a week':2, 'Often':2, 'Not at all':2,'Not interested to say':2,'Maybe':2 }\n",
    "data.replace(df_dic, inplace=True)\n",
    "data"
   ]
  },
  {
   "cell_type": "markdown",
   "metadata": {},
   "source": [
    "# Persiapan modeling"
   ]
  },
  {
   "cell_type": "code",
   "execution_count": 28,
   "metadata": {},
   "outputs": [
    {
     "name": "stdout",
     "output_type": "stream",
     "text": [
      "(1491, 9) (1491,)\n"
     ]
    }
   ],
   "source": [
    "y = data.pop('Feeling anxious')\n",
    "X = data\n",
    "print(X.shape, y.shape)"
   ]
  },
  {
   "cell_type": "markdown",
   "metadata": {},
   "source": [
    "# Melihat korelasi antar kolom"
   ]
  },
  {
   "cell_type": "code",
   "execution_count": 29,
   "metadata": {},
   "outputs": [
    {
     "data": {
      "text/plain": [
       "<Axes: >"
      ]
     },
     "execution_count": 29,
     "metadata": {},
     "output_type": "execute_result"
    },
    {
     "data": {
      "image/png": "[encoded data removed]",
      "text/plain": [
       "<Figure size 640x480 with 2 Axes>"
      ]
     },
     "metadata": {},
     "output_type": "display_data"
    }
   ],
   "source": [
    "corr = X.corr()\n",
    "sns.heatmap(corr)"
   ]
  },
  {
   "cell_type": "markdown",
   "metadata": {},
   "source": [
    "# Standarisasi"
   ]
  },
  {
   "cell_type": "code",
   "execution_count": 30,
   "metadata": {},
   "outputs": [
    {
     "data": {
      "text/html": [
       "<div>\n",
       "<style scoped>\n",
       "    .dataframe tbody tr th:only-of-type {\n",
       "        vertical-align: middle;\n",
       "    }\n",
       "\n",
       "    .dataframe tbody tr th {\n",
       "        vertical-align: top;\n",
       "    }\n",
       "\n",
       "    .dataframe thead th {\n",
       "        text-align: right;\n",
       "    }\n",
       "</style>\n",
       "<table border=\"1\" class=\"dataframe\">\n",
       "  <thead>\n",
       "    <tr style=\"text-align: right;\">\n",
       "      <th></th>\n",
       "      <th>Age</th>\n",
       "      <th>Feeling sad or Tearful</th>\n",
       "      <th>Irritable towards baby &amp; partner</th>\n",
       "      <th>Trouble sleeping at night</th>\n",
       "      <th>Problems concentrating or making decision</th>\n",
       "      <th>Overeating or loss of appetite</th>\n",
       "      <th>Feeling of guilt</th>\n",
       "      <th>Problems of bonding with baby</th>\n",
       "      <th>Suicide attempt</th>\n",
       "    </tr>\n",
       "  </thead>\n",
       "  <tbody>\n",
       "    <tr>\n",
       "      <th>0</th>\n",
       "      <td>-0.104067</td>\n",
       "      <td>0.065199</td>\n",
       "      <td>0.047305</td>\n",
       "      <td>1.02955</td>\n",
       "      <td>0.088003</td>\n",
       "      <td>0.431485</td>\n",
       "      <td>-1.070798</td>\n",
       "      <td>0.011751</td>\n",
       "      <td>0.309667</td>\n",
       "    </tr>\n",
       "    <tr>\n",
       "      <th>1</th>\n",
       "      <td>0.671753</td>\n",
       "      <td>0.065199</td>\n",
       "      <td>-1.212196</td>\n",
       "      <td>-1.38977</td>\n",
       "      <td>0.088003</td>\n",
       "      <td>0.431485</td>\n",
       "      <td>0.071233</td>\n",
       "      <td>0.011751</td>\n",
       "      <td>-0.944988</td>\n",
       "    </tr>\n",
       "    <tr>\n",
       "      <th>2</th>\n",
       "      <td>-0.104067</td>\n",
       "      <td>0.065199</td>\n",
       "      <td>-1.212196</td>\n",
       "      <td>-0.18011</td>\n",
       "      <td>0.088003</td>\n",
       "      <td>0.431485</td>\n",
       "      <td>-1.070798</td>\n",
       "      <td>1.179794</td>\n",
       "      <td>-0.944988</td>\n",
       "    </tr>\n",
       "    <tr>\n",
       "      <th>3</th>\n",
       "      <td>-0.104067</td>\n",
       "      <td>0.065199</td>\n",
       "      <td>0.047305</td>\n",
       "      <td>-0.18011</td>\n",
       "      <td>0.088003</td>\n",
       "      <td>-0.808100</td>\n",
       "      <td>1.213264</td>\n",
       "      <td>-1.156292</td>\n",
       "      <td>-0.944988</td>\n",
       "    </tr>\n",
       "    <tr>\n",
       "      <th>4</th>\n",
       "      <td>0.671753</td>\n",
       "      <td>0.065199</td>\n",
       "      <td>-1.212196</td>\n",
       "      <td>1.02955</td>\n",
       "      <td>0.088003</td>\n",
       "      <td>-0.808100</td>\n",
       "      <td>-1.070798</td>\n",
       "      <td>0.011751</td>\n",
       "      <td>-0.944988</td>\n",
       "    </tr>\n",
       "    <tr>\n",
       "      <th>...</th>\n",
       "      <td>...</td>\n",
       "      <td>...</td>\n",
       "      <td>...</td>\n",
       "      <td>...</td>\n",
       "      <td>...</td>\n",
       "      <td>...</td>\n",
       "      <td>...</td>\n",
       "      <td>...</td>\n",
       "      <td>...</td>\n",
       "    </tr>\n",
       "    <tr>\n",
       "      <th>1498</th>\n",
       "      <td>-0.879887</td>\n",
       "      <td>0.065199</td>\n",
       "      <td>-1.212196</td>\n",
       "      <td>1.02955</td>\n",
       "      <td>-1.104837</td>\n",
       "      <td>-0.808100</td>\n",
       "      <td>1.213264</td>\n",
       "      <td>1.179794</td>\n",
       "      <td>-0.944988</td>\n",
       "    </tr>\n",
       "    <tr>\n",
       "      <th>1499</th>\n",
       "      <td>-1.655706</td>\n",
       "      <td>1.311495</td>\n",
       "      <td>-1.212196</td>\n",
       "      <td>-1.38977</td>\n",
       "      <td>1.280843</td>\n",
       "      <td>-0.808100</td>\n",
       "      <td>1.213264</td>\n",
       "      <td>0.011751</td>\n",
       "      <td>-0.944988</td>\n",
       "    </tr>\n",
       "    <tr>\n",
       "      <th>1500</th>\n",
       "      <td>-1.655706</td>\n",
       "      <td>-1.181098</td>\n",
       "      <td>1.306807</td>\n",
       "      <td>1.02955</td>\n",
       "      <td>-1.104837</td>\n",
       "      <td>-0.808100</td>\n",
       "      <td>0.071233</td>\n",
       "      <td>-1.156292</td>\n",
       "      <td>1.564322</td>\n",
       "    </tr>\n",
       "    <tr>\n",
       "      <th>1501</th>\n",
       "      <td>-1.655706</td>\n",
       "      <td>-1.181098</td>\n",
       "      <td>1.306807</td>\n",
       "      <td>-0.18011</td>\n",
       "      <td>1.280843</td>\n",
       "      <td>-0.808100</td>\n",
       "      <td>-1.070798</td>\n",
       "      <td>-1.156292</td>\n",
       "      <td>-0.944988</td>\n",
       "    </tr>\n",
       "    <tr>\n",
       "      <th>1502</th>\n",
       "      <td>1.447572</td>\n",
       "      <td>1.311495</td>\n",
       "      <td>1.306807</td>\n",
       "      <td>1.02955</td>\n",
       "      <td>-1.104837</td>\n",
       "      <td>-0.808100</td>\n",
       "      <td>1.213264</td>\n",
       "      <td>-1.156292</td>\n",
       "      <td>-0.944988</td>\n",
       "    </tr>\n",
       "  </tbody>\n",
       "</table>\n",
       "<p>1491 rows × 9 columns</p>\n",
       "</div>"
      ],
      "text/plain": [
       "           Age  Feeling sad or Tearful  Irritable towards baby & partner  \\\n",
       "0    -0.104067                0.065199                          0.047305   \n",
       "1     0.671753                0.065199                         -1.212196   \n",
       "2    -0.104067                0.065199                         -1.212196   \n",
       "3    -0.104067                0.065199                          0.047305   \n",
       "4     0.671753                0.065199                         -1.212196   \n",
       "...        ...                     ...                               ...   \n",
       "1498 -0.879887                0.065199                         -1.212196   \n",
       "1499 -1.655706                1.311495                         -1.212196   \n",
       "1500 -1.655706               -1.181098                          1.306807   \n",
       "1501 -1.655706               -1.181098                          1.306807   \n",
       "1502  1.447572                1.311495                          1.306807   \n",
       "\n",
       "      Trouble sleeping at night  Problems concentrating or making decision  \\\n",
       "0                       1.02955                                   0.088003   \n",
       "1                      -1.38977                                   0.088003   \n",
       "2                      -0.18011                                   0.088003   \n",
       "3                      -0.18011                                   0.088003   \n",
       "4                       1.02955                                   0.088003   \n",
       "...                         ...                                        ...   \n",
       "1498                    1.02955                                  -1.104837   \n",
       "1499                   -1.38977                                   1.280843   \n",
       "1500                    1.02955                                  -1.104837   \n",
       "1501                   -0.18011                                   1.280843   \n",
       "1502                    1.02955                                  -1.104837   \n",
       "\n",
       "      Overeating or loss of appetite  Feeling of guilt  \\\n",
       "0                           0.431485         -1.070798   \n",
       "1                           0.431485          0.071233   \n",
       "2                           0.431485         -1.070798   \n",
       "3                          -0.808100          1.213264   \n",
       "4                          -0.808100         -1.070798   \n",
       "...                              ...               ...   \n",
       "1498                       -0.808100          1.213264   \n",
       "1499                       -0.808100          1.213264   \n",
       "1500                       -0.808100          0.071233   \n",
       "1501                       -0.808100         -1.070798   \n",
       "1502                       -0.808100          1.213264   \n",
       "\n",
       "      Problems of bonding with baby  Suicide attempt  \n",
       "0                          0.011751         0.309667  \n",
       "1                          0.011751        -0.944988  \n",
       "2                          1.179794        -0.944988  \n",
       "3                         -1.156292        -0.944988  \n",
       "4                          0.011751        -0.944988  \n",
       "...                             ...              ...  \n",
       "1498                       1.179794        -0.944988  \n",
       "1499                       0.011751        -0.944988  \n",
       "1500                      -1.156292         1.564322  \n",
       "1501                      -1.156292        -0.944988  \n",
       "1502                      -1.156292        -0.944988  \n",
       "\n",
       "[1491 rows x 9 columns]"
      ]
     },
     "execution_count": 30,
     "metadata": {},
     "output_type": "execute_result"
    }
   ],
   "source": [
    "meanX = X.mean()\n",
    "stdX = np.std(X)\n",
    "\n",
    "X = (X - meanX) / stdX\n",
    "X"
   ]
  },
  {
   "cell_type": "markdown",
   "metadata": {},
   "source": [
    "#--#"
   ]
  }
 ],
 "metadata": {
  "kernelspec": {
   "display_name": "base",
   "language": "python",
   "name": "python3"
  },
  "language_info": {
   "codemirror_mode": {
    "name": "ipython",
    "version": 3
   },
   "file_extension": ".py",
   "mimetype": "text/x-python",
   "name": "python",
   "nbconvert_exporter": "python",
   "pygments_lexer": "ipython3",
   "version": "3.11.5"
  }
 },
 "nbformat": 4,
 "nbformat_minor": 2
}
