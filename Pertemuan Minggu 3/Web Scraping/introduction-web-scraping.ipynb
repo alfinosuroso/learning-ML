{
 "cells": [
  {
   "cell_type": "code",
   "execution_count": 2,
   "metadata": {},
   "outputs": [
    {
     "name": "stdout",
     "output_type": "stream",
     "text": [
      "Requirement already satisfied: requests in d:\\programs\\lib\\site-packages (2.31.0)\n",
      "Requirement already satisfied: beautifulsoup4 in d:\\programs\\lib\\site-packages (4.12.2)\n",
      "Requirement already satisfied: pandas in d:\\programs\\lib\\site-packages (2.0.3)\n"
     ]
    },
    {
     "name": "stderr",
     "output_type": "stream",
     "text": [
      "ERROR: Could not find a version that satisfies the requirement time (from versions: none)\n",
      "ERROR: No matching distribution found for time\n"
     ]
    }
   ],
   "source": [
    "#!pip install requests beautifulsoup4 pandas time"
   ]
  },
  {
   "cell_type": "code",
   "execution_count": 4,
   "metadata": {},
   "outputs": [],
   "source": [
    "import requests\n",
    "\n",
    "from bs4 import BeautifulSoup\n",
    "import pandas as pd\n",
    "import time\n",
    "\n",
    "# URL of the website to scrape\n",
    "url = \"https://www.imdb.com/chart/top/?ref_=nv_mv_250\"\n",
    "\n",
    "# Send an HTTP GET request to the website\n",
    "response = requests.get(url)\n",
    "\n",
    "# Parse the HTML code using BeautifulSoup\n",
    "soup = BeautifulSoup(response.content, 'html.parser')\n",
    "\n",
    "# Extract the relevant information from the HTML code\n",
    "movies = []\n",
    "for row in soup.select('ul.ipc-metadata-list ipc-metadata-list--dividers-between sc-a1e81754-0 eBRbsI compact-list-view ipc-metadata-list--base li.ipc-metadata-list-summary-item sc-10233bc-0 iherUv cli-parent'):\n",
    "    title = row.find('td', class_='titleColumn').find('a').get_text()\n",
    "    year = row.find('td', class_='titleColumn').find('span', class_='secondaryInfo').get_text()[1:-1]\n",
    "    rating = row.find('td', class_='ratingColumn imdbRating').find('strong').get_text()\n",
    "    movies.append([title, year, rating])\n",
    "\n",
    "# Store the information in a pandas dataframe\n",
    "df = pd.DataFrame(movies, columns=['Title', 'Year', 'Rating'])\n",
    "\n",
    "# Add a delay between requests to avoid overwhelming the website with requests\n",
    "time.sleep(1)"
   ]
  },
  {
   "cell_type": "code",
   "execution_count": 5,
   "metadata": {},
   "outputs": [],
   "source": [
    "# Export the data to a CSV file\n",
    "df.to_csv('top-rated-movies.csv', index=False)"
   ]
  }
 ],
 "metadata": {
  "kernelspec": {
   "display_name": "base",
   "language": "python",
   "name": "python3"
  },
  "language_info": {
   "codemirror_mode": {
    "name": "ipython",
    "version": 3
   },
   "file_extension": ".py",
   "mimetype": "text/x-python",
   "name": "python",
   "nbconvert_exporter": "python",
   "pygments_lexer": "ipython3",
   "version": "3.11.5"
  }
 },
 "nbformat": 4,
 "nbformat_minor": 2
}
